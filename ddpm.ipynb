{
  "nbformat": 4,
  "nbformat_minor": 0,
  "metadata": {
    "colab": {
      "provenance": [],
      "authorship_tag": "ABX9TyO0jEZuO20dg5z0ky36LanV",
      "include_colab_link": true
    },
    "kernelspec": {
      "name": "python3",
      "display_name": "Python 3"
    },
    "language_info": {
      "name": "python"
    }
  },
  "cells": [
    {
      "cell_type": "markdown",
      "metadata": {
        "id": "view-in-github",
        "colab_type": "text"
      },
      "source": [
        "<a href=\"https://colab.research.google.com/github/CakeNuthep/Diffusion-Models-pytorch/blob/main/ddpm.ipynb\" target=\"_parent\"><img src=\"https://colab.research.google.com/assets/colab-badge.svg\" alt=\"Open In Colab\"/></a>"
      ]
    },
    {
      "cell_type": "code",
      "execution_count": 11,
      "metadata": {
        "colab": {
          "base_uri": "https://localhost:8080/"
        },
        "id": "p_3wfZHBd_g4",
        "outputId": "42ed2227-e861-4931-cbdd-54f040086794"
      },
      "outputs": [
        {
          "output_type": "stream",
          "name": "stdout",
          "text": [
            "fatal: destination path 'Diffusion-Models-pytorch' already exists and is not an empty directory.\n"
          ]
        }
      ],
      "source": [
        "!git clone https://github.com/CakeNuthep/Diffusion-Models-pytorch.git"
      ]
    },
    {
      "cell_type": "code",
      "source": [
        "!unzip \"/content/Linnaeus 5 64X64.zip\""
      ],
      "metadata": {
        "colab": {
          "base_uri": "https://localhost:8080/"
        },
        "id": "tBqQWxdLkRj5",
        "outputId": "687850ce-d6ed-4783-831d-7f85882beca9"
      },
      "execution_count": 12,
      "outputs": [
        {
          "output_type": "stream",
          "name": "stdout",
          "text": [
            "Archive:  /content/Linnaeus 5 64X64.zip\n",
            "replace Linnaeus 5 64X64/test/berry/1_64.jpg? [y]es, [n]o, [A]ll, [N]one, [r]ename: N\n"
          ]
        }
      ]
    },
    {
      "cell_type": "code",
      "source": [
        "%cd \"/content/Diffusion-Models-pytorch\""
      ],
      "metadata": {
        "colab": {
          "base_uri": "https://localhost:8080/"
        },
        "id": "L9cVAK9geCWe",
        "outputId": "c481c5ec-35ca-4715-c18d-b802f9be6aae"
      },
      "execution_count": 13,
      "outputs": [
        {
          "output_type": "stream",
          "name": "stdout",
          "text": [
            "/content/Diffusion-Models-pytorch\n"
          ]
        }
      ]
    },
    {
      "cell_type": "code",
      "source": [
        "class argument:\n",
        "  def __init__(self,run_name=None,epochs=None,batch_size=None,image_size=None,dataset_path=None,device=None,lr=None):\n",
        "    super().__init__()\n",
        "    self.run_name = run_name\n",
        "    self.epochs = epochs\n",
        "    self.batch_size = batch_size\n",
        "    self.image_size = image_size\n",
        "    self.dataset_path = dataset_path\n",
        "    self.device = device\n",
        "    self.lr = lr"
      ],
      "metadata": {
        "id": "hlTnE5JUkQJW"
      },
      "execution_count": 14,
      "outputs": []
    },
    {
      "cell_type": "code",
      "source": [
        "from ddpm import *\n",
        "import logging\n",
        "\n",
        "logging.basicConfig(format=\"%(asctime)s - %(levelname)s: %(message)s\", level=logging.INFO, datefmt=\"%I:%M:%S\")\n",
        "\n",
        "args = argument()\n",
        "args.run_name = \"DDPM_Uncondtional\"\n",
        "args.epochs = 500\n",
        "args.batch_size = 12\n",
        "args.image_size = 64\n",
        "args.dataset_path = \"/content/Diffusion-Models-pytorch/Linnaeus 5 64X64\"\n",
        "args.device = \"cpu\"\n",
        "args.lr = 3e-4\n",
        "train(args)"
      ],
      "metadata": {
        "id": "HomYLDbLeO_i"
      },
      "execution_count": null,
      "outputs": []
    }
  ]
}